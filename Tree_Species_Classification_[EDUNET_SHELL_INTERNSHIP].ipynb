{
  "nbformat": 4,
  "nbformat_minor": 0,
  "metadata": {
    "colab": {
      "provenance": [],
      "authorship_tag": "ABX9TyO9YukVl2VjDv4/6GSL/O7M",
      "include_colab_link": true
    },
    "kernelspec": {
      "name": "python3",
      "display_name": "Python 3"
    },
    "language_info": {
      "name": "python"
    }
  },
  "cells": [
    {
      "cell_type": "markdown",
      "metadata": {
        "id": "view-in-github",
        "colab_type": "text"
      },
      "source": [
        "<a href=\"https://colab.research.google.com/github/Chutki319239/msazure/blob/main/Tree_Species_Classification_%5BEDUNET_SHELL_INTERNSHIP%5D.ipynb\" target=\"_parent\"><img src=\"https://colab.research.google.com/assets/colab-badge.svg\" alt=\"Open In Colab\"/></a>"
      ]
    },
    {
      "cell_type": "code",
      "execution_count": 1,
      "metadata": {
        "colab": {
          "base_uri": "https://localhost:8080/"
        },
        "id": "8zYhIRljI7YK",
        "outputId": "d1ccaf79-b5b0-4c86-a6bd-d21626b8e5a4"
      },
      "outputs": [
        {
          "output_type": "stream",
          "name": "stdout",
          "text": [
            "Mounted at /content/drive\n"
          ]
        }
      ],
      "source": [
        "from google.colab import drive\n",
        "drive.mount('/content/drive')"
      ]
    },
    {
      "cell_type": "code",
      "source": [
        "!ls -l \"/content/drive/MyDrive\"\n"
      ],
      "metadata": {
        "colab": {
          "base_uri": "https://localhost:8080/"
        },
        "id": "j7UawLQVBmtG",
        "outputId": "6d3fd1ce-3814-45f0-db04-8060f5f252c0"
      },
      "execution_count": 18,
      "outputs": [
        {
          "output_type": "stream",
          "name": "stdout",
          "text": [
            "total 314588\n",
            "-rw------- 1 root root   447793 Jul 31  2024 '23MCB0025 (1).pdf'\n",
            "-rw------- 1 root root   451093 Jul 31  2024 '23MCB0025 (1).pdf.docx'\n",
            "-rw------- 1 root root   316058 Jul 31  2024 '23MCB0025_COA_TH (1).pdf'\n",
            "-rw------- 1 root root   316058 Jul 31  2024  23MCB0025_COA_TH.pdf\n",
            "-rw------- 1 root root   332219 Jul 31  2024 '23MCB0025_LA5 (1).pdf'\n",
            "-rw------- 1 root root   332219 Jul 31  2024  23MCB0025_LA5.pdf\n",
            "-rw------- 1 root root   447793 Jul 31  2024  23MCB0025.pdf\n",
            "-rw------- 1 root root   451093 Jul 31  2024  23MCB0025.pdf.docx\n",
            "-rw------- 1 root root   387428 Jul 31  2024 '23MCB0025_VUSALA_SRI_SAI_PRAVALLIKA_SET (1).docx'\n",
            "-rw------- 1 root root   402601 Jul 31  2024 '23MCB0025_VUSALA_SRI_SAI_PRAVALLIKA_SET (1).pdf'\n",
            "-rw------- 1 root root   387428 Jul 31  2024  23MCB0025_VUSALA_SRI_SAI_PRAVALLIKA_SET.docx\n",
            "-rw------- 1 root root   402601 Jul 31  2024  23MCB0025_VUSALA_SRI_SAI_PRAVALLIKA_SET.pdf\n",
            "-rw------- 1 root root   387381 Jul 31  2024 '23MCB0025_VUSALA_SRI_SAI_PRAVALLIKA_SET REV (1).docx'\n",
            "-rw------- 1 root root   387381 Jul 31  2024 '23MCB0025_VUSALA_SRI_SAI_PRAVALLIKA_SET REV.docx'\n",
            "-rw------- 1 root root   580789 Jul 11  2024 'A2305223477_Vusala Akanksha.pdf'\n",
            "-rw------- 1 root root    24308 Jul 31  2024 'Abstract-SET_PRAVALLIKA (1).docx'\n",
            "-rw------- 1 root root    24308 Jul 31  2024  Abstract-SET_PRAVALLIKA.docx\n",
            "-rw------- 1 root root      182 Oct  3  2024 'AI-ML NOTES.gdoc'\n",
            "drwx------ 2 root root     4096 Oct  7  2022  AMRITSAR-LEH-LADAKH\n",
            "-rw------- 1 root root   344187 Apr 17 11:43 'APPLICATION FORM AND UNDERTAKING (2).pdf'\n",
            "drwx------ 3 root root     4096 Jul 26 09:12 'archive (1)'\n",
            "-rw------- 1 root root    41988 Feb 18 07:13 'Assignment - 2.docx'\n",
            "-rw------- 1 root root     8778 Jul 31  2024 'boats (1).xlsx'\n",
            "-rw------- 1 root root     8778 Jul 31  2024  boats.xlsx\n",
            "-rw------- 1 root root    35504 Dec  6  2024  bp-1.pdf\n",
            "-rw------- 1 root root      182 Jul 24 01:27 'Building a Better Experience — One Habit at a Time .gform'\n",
            "-rw------- 1 root root    72026 Apr 17 08:14 'chiinu_lor (1).pdf'\n",
            "-rw------- 1 root root    72026 Apr 17 08:14  chiinu_lor.pdf\n",
            "drwx------ 2 root root     4096 Aug 27  2023  Classroom\n",
            "drwx------ 2 root root     4096 Aug  8  2024 'Colab Notebooks'\n",
            "-rw------- 1 root root   208355 Sep 25  2024 'Copy of ML MODEL [SEASON OF AI WEEK 2].ipynb'\n",
            "-rw------- 1 root root   435070 Sep 13  2023 'C PROGRAMMING ASSIGNMENT 1 [VUSALA AKANKSHA]1CSE7Y.docx'\n",
            "lrw------- 1 root root        0 Sep 14  2023 'C PROGRAMMING ASSIGNMENT 2 [VUSALA AKANKSHA] 1CSE7Y (1).gdoc' -> '/content/drive/ '\n",
            "-rw------- 1 root root  2013172 Oct  6  2023 'C PROGRAMMING ASSIGNMENT 2 [VUSALA AKANKSHA] 1CSE7Y.docx'\n",
            "lrw------- 1 root root        0 Sep 14  2023 'C PROGRAMMING ASSIGNMENT 2 [VUSALA AKANKSHA] 1CSE7Y.gdoc' -> '/content/drive/ '\n",
            "-rw------- 1 root root   792146 Nov  2  2023 'C PROGRAMMING ASSIGNMENT 2 -VUSALA AKANKSHA- 1CSE7Y.pdf'\n",
            "-rw------- 1 root root  1844162 Sep 30  2024 'Cream and Yellow Illustrated Happy Ganesh Chaturthi Instagram Story.png'\n",
            "-rw------- 1 root root   186248 Jul 31  2024 'C_WmX67XoAENbFp (1) (1).jpg_large'\n",
            "-rw------- 1 root root   186248 Jul 31  2024 'C_WmX67XoAENbFp (1).jpg_large'\n",
            "-rw------- 1 root root   186248 Jul 31  2024 'C_WmX67XoAENbFp (2).jpg_large'\n",
            "-rw------- 1 root root   186248 Jul 31  2024  C_WmX67XoAENbFp.jpg_large\n",
            "-rw------- 1 root root    22905 May 20 13:07 'Data Preprocessing2.ipynb'\n",
            "drwx------ 2 root root     4096 Aug  8  2024 'data science'\n",
            "-rw------- 1 root root     9209 Jul 31  2024 'dependant (1).xlsx'\n",
            "-rw------- 1 root root     9209 Jul 31  2024  dependant.xlsx\n",
            "-rw------- 1 root root   376338 Mar 22  2024  DOC-20240320-WA0005..pdf\n",
            "-rw------- 1 root root    10467 Jul 31  2024 'employee (1).xlsx'\n",
            "-rw------- 1 root root    10467 Jul 31  2024  employee.xlsx\n",
            "-rw------- 1 root root      182 Nov 22  2023 'END SEMESTER EXAMINATION.gdoc'\n",
            "-rw------- 1 root root 10137520 Jun 26 08:54  ezyZip.mp4\n",
            "-rw------- 1 root root      182 Jul 19 10:44 'Feedback form .gform'\n",
            "-rw------- 1 root root      182 Nov 27  2023 'final list .gdoc'\n",
            "-rw------- 1 root root  1459142 Jul 31  2024 'HEI-Exempted-U-0497_SelfLearning_20220531171724 (1).pdf'\n",
            "-rw------- 1 root root  1459142 Jul 31  2024  HEI-Exempted-U-0497_SelfLearning_20220531171724.pdf\n",
            "-rw------- 1 root root      182 Feb  4  2024 'HISTORY ASSIGNMENT.gdoc'\n",
            "-rw------- 1 root root  1038360 Apr 14 06:25 'ID CARD AMITY.pdf'\n",
            "-rw------- 1 root root   333999 Jul 31  2024 'IGNTU-eContent-375577792959-BA-AIHC-6-DrJanardhanaB-ScienceandTechnologyinAncientIndia-4 (1).pdf'\n",
            "-rw------- 1 root root   333999 Jul 31  2024  IGNTU-eContent-375577792959-BA-AIHC-6-DrJanardhanaB-ScienceandTechnologyinAncientIndia-4.pdf\n",
            "-rw------- 1 root root   415758 Jul 31  2024 'la4 (1).pdf'\n",
            "-rw------- 1 root root   415758 Jul 31  2024  la4.pdf\n",
            "-rw------- 1 root root   381410 Jul 31  2024 'LA5 (1).pdf'\n",
            "-rw------- 1 root root   381410 Jul 31  2024  LA5.pdf\n",
            "-rw------- 1 root root      643 Jul 31  2024 'LA5_PiPROGRAM_23MCB0025 (1).zip'\n",
            "-rw------- 1 root root      643 Jul 31  2024  LA5_PiPROGRAM_23MCB0025.zip\n",
            "-rw------- 1 root root      182 Nov 25  2023 'list of feedback pre exam  (1).gdoc'\n",
            "-rw------- 1 root root      182 Nov 25  2023 'list of feedback pre exam .gdoc'\n",
            "-rw------- 1 root root  8332086 Apr 17 11:41  LORNOC.pdf\n",
            "drwx------ 2 root root     4096 Dec 11  2024 'Madhu Mams Gruhapravesam'\n",
            "-rw------- 1 root root     8538 May  9  2024 'mdd-bfna-sgb - May 9, 2024.pdf'\n",
            "-rw------- 1 root root      182 Oct 13  2023 'MINORS 🥲.gdoc'\n",
            "-rw------- 1 root root   478353 Aug 13  2024 'MLSC AI_ML SESSION 1 NOTES [13_08_24]-compressed.pdf'\n",
            "-rw------- 1 root root   431154 Sep 10  2024 'MLSC AI_ML SESSION 3 NOTES[10_09_24]-compressed.pdf'\n",
            "-rw------- 1 root root      182 Dec 10  2023 'Module 2 Basic programming Part 1.gdoc'\n",
            "drwx------ 2 root root     4096 Dec 10  2023 'Module 2.zip (Unzipped Files)'\n",
            "-rw------- 1 root root 82555450 Apr 26 06:21  MOV05111.AVI\n",
            "-rw------- 1 root root      182 Jun  5  2023 'My First Spreadsheet.gsheet'\n",
            "-rw------- 1 root root    54187 Jul 31  2024 'new doc 2021-09-22 20.18.18 (1).pdf'\n",
            "-rw------- 1 root root    54187 Jul 31  2024 'new doc 2021-09-22 20.18.18.pdf'\n",
            "-rw------- 1 root root    91241 Jul 31  2024 'new doc 2023-07-23 18.44.31 (1).pdf'\n",
            "-rw------- 1 root root    91241 Jul 31  2024 'new doc 2023-07-23 18.44.31.pdf'\n",
            "-rw------- 1 root root   537292 Jul 31  2024 'opm_lab1 (1).pdf'\n",
            "-rw------- 1 root root   537292 Jul 31  2024  opm_lab1.pdf\n",
            "-rw------- 1 root root  2006054 Jul 31  2024 'opm_lab2 (1).pdf'\n",
            "-rw------- 1 root root  2006054 Jul 31  2024  opm_lab2.pdf\n",
            "-rw------- 1 root root  2800289 Jul 31  2024 'opm_lab_final (1).pdf'\n",
            "-rw------- 1 root root  2800289 Jul 31  2024  opm_lab_final.pdf\n",
            "-rw------- 1 root root      182 Jan 25 06:42 'Order Form.gform'\n",
            "-rw------- 1 root root    95381 Apr 23 07:47  OS.pdf\n",
            "-rw------- 1 root root      182 Dec 10  2023 'part 4-1.gdoc'\n",
            "-rw------- 1 root root      182 Dec 10  2023 'part 4-2.gdoc'\n",
            "-rw------- 1 root root   366586 Jul 31  2024 'Payment Status (1).pdf'\n",
            "-rw------- 1 root root   366586 Jul 31  2024 'Payment Status.pdf'\n",
            "-rw------- 1 root root  5129091 Jul  4 10:21 'Phir Bhi Shukriya.mp3'\n",
            "-rw------- 1 root root   215841 Dec  1  2023  pour-toi-mon-amour-fiche_231129_132149_copy.pdf\n",
            "-rw------- 1 root root      182 Dec 10  2023 'practice problems.gslides'\n",
            "-rw------- 1 root root      182 Jul 16 15:32 'PRISM-AI Mentorship Program – Section B Responses.gdoc'\n",
            "-rw------- 1 root root    37045 Apr 13 09:25  Profile.pdf\n",
            "-rw------- 1 root root     8788 Jul 31  2024 'reserves (1).xlsx'\n",
            "-rw------- 1 root root     8788 Jul 31  2024  reserves.xlsx\n",
            "-rw------- 1 root root   879509 Jul 21 16:36  RESUME.docx\n",
            "-rw------- 1 root root      182 Jul 23 11:18  RESUME.gdoc\n",
            "-rw------- 1 root root  1417784 Jul 20 15:10  RESUME.pdf\n",
            "-rw------- 1 root root     8882 Jul 31  2024 'sailors (1).xlsx'\n",
            "-rw------- 1 root root     8882 Jul 31  2024  sailors.xlsx\n",
            "drwx------ 2 root root     4096 Jan 29  2023  Sangeet\n",
            "-rw------- 1 root root   419663 Jul 24 09:45  SAVE_20250724_151521.jpg\n",
            "-rw------- 1 root root  1364147 Sep 27  2024 'SEASON OF AI [WEEK 2 NOTES]-compressed.pdf'\n",
            "-rw------- 1 root root   717111 Oct  5  2024 'SEASON OF AI [WEEK 3 NOTES]-compressed.pdf'\n",
            "-rw------- 1 root root   709632 Oct 19  2024 'SEASON OF AI [WEEK 5 NOTES]-compressed.pdf'\n",
            "-rw------- 1 root root   505257 Mar  7  2024 'Semester 2 Updated notes..docx'\n",
            "drwx------ 2 root root     4096 May 10  2023  Snaps\n",
            "drwx------ 2 root root     4096 Jan 25  2023 'Sruti Akka Wedding'\n",
            "-rw------- 1 root root      182 Jun  5  2023 'Statistics 1 Wk 1 FAQ.gdoc'\n",
            "-rw------- 1 root root      182 Oct  6  2023 'TECHNICAL COMMUNICATION PRESENTATION.gdoc'\n",
            "-rw------- 1 root root      182 Dec 15  2023 'Untitled document (1).gdoc'\n",
            "-rw------- 1 root root      182 Dec 13  2023 'Untitled document (2).gdoc'\n",
            "-rw------- 1 root root      182 Nov 30  2023 'Untitled document (3).gdoc'\n",
            "-rw------- 1 root root      182 Nov 30  2023 'Untitled document (4).gdoc'\n",
            "-rw------- 1 root root      182 Nov 29  2023 'Untitled document (5).gdoc'\n",
            "-rw------- 1 root root      182 Nov 20  2023 'Untitled document (6).gdoc'\n",
            "-rw------- 1 root root      182 Nov 16  2023 'Untitled document (7).gdoc'\n",
            "-rw------- 1 root root      182 Nov 16  2023 'Untitled document (8).gdoc'\n",
            "-rw------- 1 root root      182 Sep 14  2023 'Untitled document (9).gdoc'\n",
            "-rw------- 1 root root      182 Mar  3  2024 'Untitled document.gdoc'\n",
            "-rw------- 1 root root      182 Apr 29  2024 'Untitled document - Line chart 1.gsheet'\n",
            "-rw------- 1 root root      182 Jan 25 06:41 'Untitled form (1).gform'\n",
            "drwx------ 2 root root     4096 Jan 25 07:17 'Untitled form (File responses)'\n",
            "-rw------- 1 root root      182 Feb 26 16:43 'Untitled form.gform'\n",
            "-rw------- 1 root root      182 Nov 25  2023 'update 2 of feeedback post (1).gdoc'\n",
            "-rw------- 1 root root      182 Nov 25  2023 'update 2 of feeedback post.gdoc'\n",
            "-rw------- 1 root root   384744 Apr 14  2024 'Updated_Questions Bank  AM-II_MATH122_copy.pdf'\n",
            "-rw------- 1 root root 55513221 Mar  9 14:47  VID_20250227_153339.mp4\n",
            "-rw------- 1 root root 27588665 Mar  3 12:02  VID_20250227_153750.mp4\n",
            "-rw------- 1 root root 54806193 Mar  3 12:02  VID_20250227_161937.mp4\n",
            "-rw------- 1 root root 35821292 Mar 24 14:39 'Video from Akanksha. V'\n",
            "-rw------- 1 root root      182 Oct 13  2023 'VUSALA AKANKSHA CPROGRAMMING ASSIGNMENT[PATTERN PRINTING] 13.10.23.gdoc'\n",
            "-rw------- 1 root root   148060 Jul 24 09:47 'VusalaAkanksha_Image1 (1).jpeg'\n",
            "-rw------- 1 root root   148060 Jul 24 09:47  VusalaAkanksha_Image1.jpeg\n",
            "-rw------- 1 root root  2784698 Jul 24 09:56  VusalaAkanksha_Image2.png\n",
            "-rw------- 1 root root   237962 Nov 27  2024 'Vusala Akanksha.jpeg'\n",
            "-rw------- 1 root root    78820 Jul  4 17:43 'VUSALA AKANKSHA.pdf'\n"
          ]
        }
      ]
    },
    {
      "cell_type": "code",
      "source": [
        "!mv \"/content/drive/MyDrive/archive (1)\" \"/content/drive/MyDrive/archive1\"\n"
      ],
      "metadata": {
        "id": "60Lb5vDcB46m"
      },
      "execution_count": 19,
      "outputs": []
    },
    {
      "cell_type": "code",
      "source": [
        "!ls -l \"/content/drive/MyDrive\"\n"
      ],
      "metadata": {
        "colab": {
          "base_uri": "https://localhost:8080/"
        },
        "id": "S9rU5XWWB6tM",
        "outputId": "dd33f367-6a42-4ad3-851a-0149c5eb602b"
      },
      "execution_count": 20,
      "outputs": [
        {
          "output_type": "stream",
          "name": "stdout",
          "text": [
            "total 314588\n",
            "-rw------- 1 root root   447793 Jul 31  2024 '23MCB0025 (1).pdf'\n",
            "-rw------- 1 root root   451093 Jul 31  2024 '23MCB0025 (1).pdf.docx'\n",
            "-rw------- 1 root root   316058 Jul 31  2024 '23MCB0025_COA_TH (1).pdf'\n",
            "-rw------- 1 root root   316058 Jul 31  2024  23MCB0025_COA_TH.pdf\n",
            "-rw------- 1 root root   332219 Jul 31  2024 '23MCB0025_LA5 (1).pdf'\n",
            "-rw------- 1 root root   332219 Jul 31  2024  23MCB0025_LA5.pdf\n",
            "-rw------- 1 root root   447793 Jul 31  2024  23MCB0025.pdf\n",
            "-rw------- 1 root root   451093 Jul 31  2024  23MCB0025.pdf.docx\n",
            "-rw------- 1 root root   387428 Jul 31  2024 '23MCB0025_VUSALA_SRI_SAI_PRAVALLIKA_SET (1).docx'\n",
            "-rw------- 1 root root   402601 Jul 31  2024 '23MCB0025_VUSALA_SRI_SAI_PRAVALLIKA_SET (1).pdf'\n",
            "-rw------- 1 root root   387428 Jul 31  2024  23MCB0025_VUSALA_SRI_SAI_PRAVALLIKA_SET.docx\n",
            "-rw------- 1 root root   402601 Jul 31  2024  23MCB0025_VUSALA_SRI_SAI_PRAVALLIKA_SET.pdf\n",
            "-rw------- 1 root root   387381 Jul 31  2024 '23MCB0025_VUSALA_SRI_SAI_PRAVALLIKA_SET REV (1).docx'\n",
            "-rw------- 1 root root   387381 Jul 31  2024 '23MCB0025_VUSALA_SRI_SAI_PRAVALLIKA_SET REV.docx'\n",
            "-rw------- 1 root root   580789 Jul 11  2024 'A2305223477_Vusala Akanksha.pdf'\n",
            "-rw------- 1 root root    24308 Jul 31  2024 'Abstract-SET_PRAVALLIKA (1).docx'\n",
            "-rw------- 1 root root    24308 Jul 31  2024  Abstract-SET_PRAVALLIKA.docx\n",
            "-rw------- 1 root root      182 Oct  3  2024 'AI-ML NOTES.gdoc'\n",
            "drwx------ 2 root root     4096 Oct  7  2022  AMRITSAR-LEH-LADAKH\n",
            "-rw------- 1 root root   344187 Apr 17 11:43 'APPLICATION FORM AND UNDERTAKING (2).pdf'\n",
            "drwx------ 3 root root     4096 Jul 26 09:19  archive1\n",
            "-rw------- 1 root root    41988 Feb 18 07:13 'Assignment - 2.docx'\n",
            "-rw------- 1 root root     8778 Jul 31  2024 'boats (1).xlsx'\n",
            "-rw------- 1 root root     8778 Jul 31  2024  boats.xlsx\n",
            "-rw------- 1 root root    35504 Dec  6  2024  bp-1.pdf\n",
            "-rw------- 1 root root      182 Jul 24 01:27 'Building a Better Experience — One Habit at a Time .gform'\n",
            "-rw------- 1 root root    72026 Apr 17 08:14 'chiinu_lor (1).pdf'\n",
            "-rw------- 1 root root    72026 Apr 17 08:14  chiinu_lor.pdf\n",
            "drwx------ 2 root root     4096 Aug 27  2023  Classroom\n",
            "drwx------ 2 root root     4096 Aug  8  2024 'Colab Notebooks'\n",
            "-rw------- 1 root root   208355 Sep 25  2024 'Copy of ML MODEL [SEASON OF AI WEEK 2].ipynb'\n",
            "-rw------- 1 root root   435070 Sep 13  2023 'C PROGRAMMING ASSIGNMENT 1 [VUSALA AKANKSHA]1CSE7Y.docx'\n",
            "lrw------- 1 root root        0 Sep 14  2023 'C PROGRAMMING ASSIGNMENT 2 [VUSALA AKANKSHA] 1CSE7Y (1).gdoc' -> '/content/drive/ '\n",
            "-rw------- 1 root root  2013172 Oct  6  2023 'C PROGRAMMING ASSIGNMENT 2 [VUSALA AKANKSHA] 1CSE7Y.docx'\n",
            "lrw------- 1 root root        0 Sep 14  2023 'C PROGRAMMING ASSIGNMENT 2 [VUSALA AKANKSHA] 1CSE7Y.gdoc' -> '/content/drive/ '\n",
            "-rw------- 1 root root   792146 Nov  2  2023 'C PROGRAMMING ASSIGNMENT 2 -VUSALA AKANKSHA- 1CSE7Y.pdf'\n",
            "-rw------- 1 root root  1844162 Sep 30  2024 'Cream and Yellow Illustrated Happy Ganesh Chaturthi Instagram Story.png'\n",
            "-rw------- 1 root root   186248 Jul 31  2024 'C_WmX67XoAENbFp (1) (1).jpg_large'\n",
            "-rw------- 1 root root   186248 Jul 31  2024 'C_WmX67XoAENbFp (1).jpg_large'\n",
            "-rw------- 1 root root   186248 Jul 31  2024 'C_WmX67XoAENbFp (2).jpg_large'\n",
            "-rw------- 1 root root   186248 Jul 31  2024  C_WmX67XoAENbFp.jpg_large\n",
            "-rw------- 1 root root    22905 May 20 13:07 'Data Preprocessing2.ipynb'\n",
            "drwx------ 2 root root     4096 Aug  8  2024 'data science'\n",
            "-rw------- 1 root root     9209 Jul 31  2024 'dependant (1).xlsx'\n",
            "-rw------- 1 root root     9209 Jul 31  2024  dependant.xlsx\n",
            "-rw------- 1 root root   376338 Mar 22  2024  DOC-20240320-WA0005..pdf\n",
            "-rw------- 1 root root    10467 Jul 31  2024 'employee (1).xlsx'\n",
            "-rw------- 1 root root    10467 Jul 31  2024  employee.xlsx\n",
            "-rw------- 1 root root      182 Nov 22  2023 'END SEMESTER EXAMINATION.gdoc'\n",
            "-rw------- 1 root root 10137520 Jun 26 08:54  ezyZip.mp4\n",
            "-rw------- 1 root root      182 Jul 19 10:44 'Feedback form .gform'\n",
            "-rw------- 1 root root      182 Nov 27  2023 'final list .gdoc'\n",
            "-rw------- 1 root root  1459142 Jul 31  2024 'HEI-Exempted-U-0497_SelfLearning_20220531171724 (1).pdf'\n",
            "-rw------- 1 root root  1459142 Jul 31  2024  HEI-Exempted-U-0497_SelfLearning_20220531171724.pdf\n",
            "-rw------- 1 root root      182 Feb  4  2024 'HISTORY ASSIGNMENT.gdoc'\n",
            "-rw------- 1 root root  1038360 Apr 14 06:25 'ID CARD AMITY.pdf'\n",
            "-rw------- 1 root root   333999 Jul 31  2024 'IGNTU-eContent-375577792959-BA-AIHC-6-DrJanardhanaB-ScienceandTechnologyinAncientIndia-4 (1).pdf'\n",
            "-rw------- 1 root root   333999 Jul 31  2024  IGNTU-eContent-375577792959-BA-AIHC-6-DrJanardhanaB-ScienceandTechnologyinAncientIndia-4.pdf\n",
            "-rw------- 1 root root   415758 Jul 31  2024 'la4 (1).pdf'\n",
            "-rw------- 1 root root   415758 Jul 31  2024  la4.pdf\n",
            "-rw------- 1 root root   381410 Jul 31  2024 'LA5 (1).pdf'\n",
            "-rw------- 1 root root   381410 Jul 31  2024  LA5.pdf\n",
            "-rw------- 1 root root      643 Jul 31  2024 'LA5_PiPROGRAM_23MCB0025 (1).zip'\n",
            "-rw------- 1 root root      643 Jul 31  2024  LA5_PiPROGRAM_23MCB0025.zip\n",
            "-rw------- 1 root root      182 Nov 25  2023 'list of feedback pre exam  (1).gdoc'\n",
            "-rw------- 1 root root      182 Nov 25  2023 'list of feedback pre exam .gdoc'\n",
            "-rw------- 1 root root  8332086 Apr 17 11:41  LORNOC.pdf\n",
            "drwx------ 2 root root     4096 Dec 11  2024 'Madhu Mams Gruhapravesam'\n",
            "-rw------- 1 root root     8538 May  9  2024 'mdd-bfna-sgb - May 9, 2024.pdf'\n",
            "-rw------- 1 root root      182 Oct 13  2023 'MINORS 🥲.gdoc'\n",
            "-rw------- 1 root root   478353 Aug 13  2024 'MLSC AI_ML SESSION 1 NOTES [13_08_24]-compressed.pdf'\n",
            "-rw------- 1 root root   431154 Sep 10  2024 'MLSC AI_ML SESSION 3 NOTES[10_09_24]-compressed.pdf'\n",
            "-rw------- 1 root root      182 Dec 10  2023 'Module 2 Basic programming Part 1.gdoc'\n",
            "drwx------ 2 root root     4096 Dec 10  2023 'Module 2.zip (Unzipped Files)'\n",
            "-rw------- 1 root root 82555450 Apr 26 06:21  MOV05111.AVI\n",
            "-rw------- 1 root root      182 Jun  5  2023 'My First Spreadsheet.gsheet'\n",
            "-rw------- 1 root root    54187 Jul 31  2024 'new doc 2021-09-22 20.18.18 (1).pdf'\n",
            "-rw------- 1 root root    54187 Jul 31  2024 'new doc 2021-09-22 20.18.18.pdf'\n",
            "-rw------- 1 root root    91241 Jul 31  2024 'new doc 2023-07-23 18.44.31 (1).pdf'\n",
            "-rw------- 1 root root    91241 Jul 31  2024 'new doc 2023-07-23 18.44.31.pdf'\n",
            "-rw------- 1 root root   537292 Jul 31  2024 'opm_lab1 (1).pdf'\n",
            "-rw------- 1 root root   537292 Jul 31  2024  opm_lab1.pdf\n",
            "-rw------- 1 root root  2006054 Jul 31  2024 'opm_lab2 (1).pdf'\n",
            "-rw------- 1 root root  2006054 Jul 31  2024  opm_lab2.pdf\n",
            "-rw------- 1 root root  2800289 Jul 31  2024 'opm_lab_final (1).pdf'\n",
            "-rw------- 1 root root  2800289 Jul 31  2024  opm_lab_final.pdf\n",
            "-rw------- 1 root root      182 Jan 25 06:42 'Order Form.gform'\n",
            "-rw------- 1 root root    95381 Apr 23 07:47  OS.pdf\n",
            "-rw------- 1 root root      182 Dec 10  2023 'part 4-1.gdoc'\n",
            "-rw------- 1 root root      182 Dec 10  2023 'part 4-2.gdoc'\n",
            "-rw------- 1 root root   366586 Jul 31  2024 'Payment Status (1).pdf'\n",
            "-rw------- 1 root root   366586 Jul 31  2024 'Payment Status.pdf'\n",
            "-rw------- 1 root root  5129091 Jul  4 10:21 'Phir Bhi Shukriya.mp3'\n",
            "-rw------- 1 root root   215841 Dec  1  2023  pour-toi-mon-amour-fiche_231129_132149_copy.pdf\n",
            "-rw------- 1 root root      182 Dec 10  2023 'practice problems.gslides'\n",
            "-rw------- 1 root root      182 Jul 16 15:32 'PRISM-AI Mentorship Program – Section B Responses.gdoc'\n",
            "-rw------- 1 root root    37045 Apr 13 09:25  Profile.pdf\n",
            "-rw------- 1 root root     8788 Jul 31  2024 'reserves (1).xlsx'\n",
            "-rw------- 1 root root     8788 Jul 31  2024  reserves.xlsx\n",
            "-rw------- 1 root root   879509 Jul 21 16:36  RESUME.docx\n",
            "-rw------- 1 root root      182 Jul 23 11:18  RESUME.gdoc\n",
            "-rw------- 1 root root  1417784 Jul 20 15:10  RESUME.pdf\n",
            "-rw------- 1 root root     8882 Jul 31  2024 'sailors (1).xlsx'\n",
            "-rw------- 1 root root     8882 Jul 31  2024  sailors.xlsx\n",
            "drwx------ 2 root root     4096 Jan 29  2023  Sangeet\n",
            "-rw------- 1 root root   419663 Jul 24 09:45  SAVE_20250724_151521.jpg\n",
            "-rw------- 1 root root  1364147 Sep 27  2024 'SEASON OF AI [WEEK 2 NOTES]-compressed.pdf'\n",
            "-rw------- 1 root root   717111 Oct  5  2024 'SEASON OF AI [WEEK 3 NOTES]-compressed.pdf'\n",
            "-rw------- 1 root root   709632 Oct 19  2024 'SEASON OF AI [WEEK 5 NOTES]-compressed.pdf'\n",
            "-rw------- 1 root root   505257 Mar  7  2024 'Semester 2 Updated notes..docx'\n",
            "drwx------ 2 root root     4096 May 10  2023  Snaps\n",
            "drwx------ 2 root root     4096 Jan 25  2023 'Sruti Akka Wedding'\n",
            "-rw------- 1 root root      182 Jun  5  2023 'Statistics 1 Wk 1 FAQ.gdoc'\n",
            "-rw------- 1 root root      182 Oct  6  2023 'TECHNICAL COMMUNICATION PRESENTATION.gdoc'\n",
            "-rw------- 1 root root      182 Dec 15  2023 'Untitled document (1).gdoc'\n",
            "-rw------- 1 root root      182 Dec 13  2023 'Untitled document (2).gdoc'\n",
            "-rw------- 1 root root      182 Nov 30  2023 'Untitled document (3).gdoc'\n",
            "-rw------- 1 root root      182 Nov 30  2023 'Untitled document (4).gdoc'\n",
            "-rw------- 1 root root      182 Nov 29  2023 'Untitled document (5).gdoc'\n",
            "-rw------- 1 root root      182 Nov 20  2023 'Untitled document (6).gdoc'\n",
            "-rw------- 1 root root      182 Nov 16  2023 'Untitled document (7).gdoc'\n",
            "-rw------- 1 root root      182 Nov 16  2023 'Untitled document (8).gdoc'\n",
            "-rw------- 1 root root      182 Sep 14  2023 'Untitled document (9).gdoc'\n",
            "-rw------- 1 root root      182 Mar  3  2024 'Untitled document.gdoc'\n",
            "-rw------- 1 root root      182 Apr 29  2024 'Untitled document - Line chart 1.gsheet'\n",
            "-rw------- 1 root root      182 Jan 25 06:41 'Untitled form (1).gform'\n",
            "drwx------ 2 root root     4096 Jan 25 07:17 'Untitled form (File responses)'\n",
            "-rw------- 1 root root      182 Feb 26 16:43 'Untitled form.gform'\n",
            "-rw------- 1 root root      182 Nov 25  2023 'update 2 of feeedback post (1).gdoc'\n",
            "-rw------- 1 root root      182 Nov 25  2023 'update 2 of feeedback post.gdoc'\n",
            "-rw------- 1 root root   384744 Apr 14  2024 'Updated_Questions Bank  AM-II_MATH122_copy.pdf'\n",
            "-rw------- 1 root root 55513221 Mar  9 14:47  VID_20250227_153339.mp4\n",
            "-rw------- 1 root root 27588665 Mar  3 12:02  VID_20250227_153750.mp4\n",
            "-rw------- 1 root root 54806193 Mar  3 12:02  VID_20250227_161937.mp4\n",
            "-rw------- 1 root root 35821292 Mar 24 14:39 'Video from Akanksha. V'\n",
            "-rw------- 1 root root      182 Oct 13  2023 'VUSALA AKANKSHA CPROGRAMMING ASSIGNMENT[PATTERN PRINTING] 13.10.23.gdoc'\n",
            "-rw------- 1 root root   148060 Jul 24 09:47 'VusalaAkanksha_Image1 (1).jpeg'\n",
            "-rw------- 1 root root   148060 Jul 24 09:47  VusalaAkanksha_Image1.jpeg\n",
            "-rw------- 1 root root  2784698 Jul 24 09:56  VusalaAkanksha_Image2.png\n",
            "-rw------- 1 root root   237962 Nov 27  2024 'Vusala Akanksha.jpeg'\n",
            "-rw------- 1 root root    78820 Jul  4 17:43 'VUSALA AKANKSHA.pdf'\n"
          ]
        }
      ]
    },
    {
      "cell_type": "code",
      "source": [
        "import os\n",
        "\n",
        "data_path = \"/content/drive/MyDrive/archive1\"\n",
        "\n",
        "for root, dirs, files in os.walk(data_path):\n",
        "    print(\"📁\", root)\n",
        "    print(\"📂\", dirs)\n",
        "    print(\"📄\", files[:5])\n",
        "    print(\"-\" * 40)\n"
      ],
      "metadata": {
        "colab": {
          "base_uri": "https://localhost:8080/"
        },
        "id": "UQAxbvbWCOrX",
        "outputId": "91dc28d3-b425-4abd-cdb6-4bf0e2ed3499"
      },
      "execution_count": 21,
      "outputs": [
        {
          "output_type": "stream",
          "name": "stdout",
          "text": [
            "📁 /content/drive/MyDrive/archive1\n",
            "📂 ['Tree_Species_Dataset']\n",
            "📄 []\n",
            "----------------------------------------\n",
            "📁 /content/drive/MyDrive/archive1/Tree_Species_Dataset\n",
            "📂 ['mango', 'khajur', 'motichanoti', 'gunda', 'kesudo', 'kanchan', 'jamun', 'nilgiri', 'gulmohor', 'neem', 'shirish', 'pipal', 'simlo', 'sonmahor', 'pilikaren', 'sitafal', 'saptaparni', 'other', 'vad', 'sugarcane', 'bili', 'garmalo', 'coconut', 'babul', 'banyan', 'bamboo', 'champa', 'asopalav', 'cactus', 'amla', '.git']\n",
            "📄 []\n",
            "----------------------------------------\n",
            "📁 /content/drive/MyDrive/archive1/Tree_Species_Dataset/mango\n",
            "📂 []\n",
            "📄 ['10.jpg', '11.jpg', '12.jpg', '1.jpg', '21.jpg']\n",
            "----------------------------------------\n",
            "📁 /content/drive/MyDrive/archive1/Tree_Species_Dataset/khajur\n",
            "📂 []\n",
            "📄 ['download (1).jpg', 'download (2).jpeg', 'download (1).jpeg', 'download (6).jpeg', 'images (10).jpeg']\n",
            "----------------------------------------\n",
            "📁 /content/drive/MyDrive/archive1/Tree_Species_Dataset/motichanoti\n",
            "📂 []\n",
            "📄 ['download (4).jpeg', 'download (2).jpg', 'download (12).jpg', 'download (2).jpeg', 'download (5).jpg']\n",
            "----------------------------------------\n",
            "📁 /content/drive/MyDrive/archive1/Tree_Species_Dataset/gunda\n",
            "📂 []\n",
            "📄 ['download (10).jpeg', 'download (1).jpg', 'download (13).jpeg', 'download (12).jpeg', 'download (11).jpeg']\n",
            "----------------------------------------\n",
            "📁 /content/drive/MyDrive/archive1/Tree_Species_Dataset/kesudo\n",
            "📂 []\n",
            "📄 ['images (1).jpeg', 'download (2).jpeg', 'images (10).jpeg', 'images (13).jpeg', 'download (1).jpeg']\n",
            "----------------------------------------\n",
            "📁 /content/drive/MyDrive/archive1/Tree_Species_Dataset/kanchan\n",
            "📂 []\n",
            "📄 ['240_F_235932230_yMeilkCzd2NuHwo27O0AG6W2tcqFv5bj.jpg', '240_F_572498418_NlT2gk9wl74w5hLcuj6VNdhY8qEjkPwW.jpg', '240_F_815640135_Cv31bAD7NT8dwVRbsNBiFWEgxgNxpmBt.jpg', 'download (1).jpg', '240_F_368610928_11QZ7ce2hT0kzE0lLWlP577btSyBsOPk.jpg']\n",
            "----------------------------------------\n",
            "📁 /content/drive/MyDrive/archive1/Tree_Species_Dataset/jamun\n",
            "📂 []\n",
            "📄 ['download (3).jpeg', 'download (1).jpeg', 'download.jpg', 'download.jpeg', 'download (15).jpeg']\n",
            "----------------------------------------\n",
            "📁 /content/drive/MyDrive/archive1/Tree_Species_Dataset/nilgiri\n",
            "📂 []\n",
            "📄 ['image15.jpg', 'image10.jpg', 'image12.jpg', 'download (6).jpeg', 'image18.jpg']\n",
            "----------------------------------------\n",
            "📁 /content/drive/MyDrive/archive1/Tree_Species_Dataset/gulmohor\n",
            "📂 []\n",
            "📄 ['download (1).jpeg', 'download (5).jpeg', 'download (3).jpeg', 'download (6).jpeg', 'download (8).jpeg']\n",
            "----------------------------------------\n",
            "📁 /content/drive/MyDrive/archive1/Tree_Species_Dataset/neem\n",
            "📂 []\n",
            "📄 ['image1.jpg', 'image10.jpg', 'image13.jpg', 'image17.jpg', 'image14.jpg']\n",
            "----------------------------------------\n",
            "📁 /content/drive/MyDrive/archive1/Tree_Species_Dataset/shirish\n",
            "📂 []\n",
            "📄 ['51oVVUvxNEL._AC_UF1000,1000_QL80_.jpg', 'download (4).jpeg', 'download (3).jpeg', 'images (12).jpeg', 'images (11).jpeg']\n",
            "----------------------------------------\n",
            "📁 /content/drive/MyDrive/archive1/Tree_Species_Dataset/pipal\n",
            "📂 []\n",
            "📄 ['image1.jpg', 'image10.jpg', 'image15.jpg', 'image12.jpg', 'image16.jpg']\n",
            "----------------------------------------\n",
            "📁 /content/drive/MyDrive/archive1/Tree_Species_Dataset/simlo\n",
            "📂 []\n",
            "📄 ['download (1).jpeg', 'download (7).jpeg', 'images (11).jpeg', 'download (3).jpeg', 'download (2).jpeg']\n",
            "----------------------------------------\n",
            "📁 /content/drive/MyDrive/archive1/Tree_Species_Dataset/sonmahor\n",
            "📂 []\n",
            "📄 ['download (15).jpeg', 'download (10).jpeg', 'download (1).jpeg', 'download (14).jpeg', 'download (11).jpeg']\n",
            "----------------------------------------\n",
            "📁 /content/drive/MyDrive/archive1/Tree_Species_Dataset/pilikaren\n",
            "📂 []\n",
            "📄 ['download (11).jpg', 'download (12).jpg', 'download (10).jpg', 'download (13).jpg', 'download (1).jpg']\n",
            "----------------------------------------\n",
            "📁 /content/drive/MyDrive/archive1/Tree_Species_Dataset/sitafal\n",
            "📂 []\n",
            "📄 ['download (4).jpeg', 'download (1).jpeg', 'download (2).jpeg', 'download (3).jpeg', 'images (15).jpeg']\n",
            "----------------------------------------\n",
            "📁 /content/drive/MyDrive/archive1/Tree_Species_Dataset/saptaparni\n",
            "📂 []\n",
            "📄 ['image10.jpg', 'image12.jpg', 'image1.jpg', 'image11.jpg', 'image24.jpg']\n",
            "----------------------------------------\n",
            "📁 /content/drive/MyDrive/archive1/Tree_Species_Dataset/other\n",
            "📂 []\n",
            "📄 ['005_582c121a.jpg', '007_cabbfcbb.jpg', '01_jpg.rf.8d8a2f0f90d5b83893cd252acd832c93.jpg', '003_57612506.jpg', '001_fe3347c0.jpg']\n",
            "----------------------------------------\n",
            "📁 /content/drive/MyDrive/archive1/Tree_Species_Dataset/vad\n",
            "📂 []\n",
            "📄 ['download (15).jpeg', 'download (11).jpeg', 'download (3).jpeg', 'download (13).jpeg', 'download (4).jpeg']\n",
            "----------------------------------------\n",
            "📁 /content/drive/MyDrive/archive1/Tree_Species_Dataset/sugarcane\n",
            "📂 []\n",
            "📄 ['download (11).jpeg', 'download (12).jpeg', 'download (1).jpeg', 'download (10).jpeg', 'download (13).jpeg']\n",
            "----------------------------------------\n",
            "📁 /content/drive/MyDrive/archive1/Tree_Species_Dataset/bili\n",
            "📂 []\n",
            "📄 []\n",
            "----------------------------------------\n",
            "📁 /content/drive/MyDrive/archive1/Tree_Species_Dataset/garmalo\n",
            "📂 []\n",
            "📄 ['image29.jpg', 'image28.jpg']\n",
            "----------------------------------------\n",
            "📁 /content/drive/MyDrive/archive1/Tree_Species_Dataset/coconut\n",
            "📂 []\n",
            "📄 []\n",
            "----------------------------------------\n",
            "📁 /content/drive/MyDrive/archive1/Tree_Species_Dataset/babul\n",
            "📂 []\n",
            "📄 ['3.jpeg']\n",
            "----------------------------------------\n",
            "📁 /content/drive/MyDrive/archive1/Tree_Species_Dataset/banyan\n",
            "📂 []\n",
            "📄 []\n",
            "----------------------------------------\n",
            "📁 /content/drive/MyDrive/archive1/Tree_Species_Dataset/bamboo\n",
            "📂 []\n",
            "📄 []\n",
            "----------------------------------------\n",
            "📁 /content/drive/MyDrive/archive1/Tree_Species_Dataset/champa\n",
            "📂 []\n",
            "📄 []\n",
            "----------------------------------------\n",
            "📁 /content/drive/MyDrive/archive1/Tree_Species_Dataset/asopalav\n",
            "📂 []\n",
            "📄 ['2.jpg', '4.jpg', '3.jpg']\n",
            "----------------------------------------\n",
            "📁 /content/drive/MyDrive/archive1/Tree_Species_Dataset/cactus\n",
            "📂 []\n",
            "📄 []\n",
            "----------------------------------------\n",
            "📁 /content/drive/MyDrive/archive1/Tree_Species_Dataset/amla\n",
            "📂 []\n",
            "📄 []\n",
            "----------------------------------------\n",
            "📁 /content/drive/MyDrive/archive1/Tree_Species_Dataset/.git\n",
            "📂 ['info', 'hooks']\n",
            "📄 []\n",
            "----------------------------------------\n",
            "📁 /content/drive/MyDrive/archive1/Tree_Species_Dataset/.git/info\n",
            "📂 []\n",
            "📄 []\n",
            "----------------------------------------\n",
            "📁 /content/drive/MyDrive/archive1/Tree_Species_Dataset/.git/hooks\n",
            "📂 []\n",
            "📄 []\n",
            "----------------------------------------\n"
          ]
        }
      ]
    },
    {
      "cell_type": "code",
      "source": [
        "!pip install split-folders\n",
        "import splitfolders\n",
        "\n",
        "# Set source and destination paths\n",
        "source_dir = \"/content/drive/MyDrive/archive1/Tree_Species_Dataset\"\n",
        "output_dir = \"/content/tree_dataset_split\"\n",
        "\n",
        "# Split into train:val:test = 70:20:10\n",
        "splitfolders.ratio(source_dir, output=output_dir, seed=42, ratio=(.7, .2, .1))\n"
      ],
      "metadata": {
        "colab": {
          "base_uri": "https://localhost:8080/"
        },
        "id": "S5vLEjGoCit_",
        "outputId": "097b4144-b79b-4386-ce8f-30d592ea94bb"
      },
      "execution_count": 22,
      "outputs": [
        {
          "output_type": "stream",
          "name": "stdout",
          "text": [
            "Collecting split-folders\n",
            "  Downloading split_folders-0.5.1-py3-none-any.whl.metadata (6.2 kB)\n",
            "Downloading split_folders-0.5.1-py3-none-any.whl (8.4 kB)\n",
            "Installing collected packages: split-folders\n",
            "Successfully installed split-folders-0.5.1\n"
          ]
        },
        {
          "output_type": "stream",
          "name": "stderr",
          "text": [
            "Copying files: 1105 files [03:27,  5.33 files/s]\n"
          ]
        }
      ]
    },
    {
      "cell_type": "code",
      "source": [
        "train_dir = \"/content/tree_dataset_split/train\"\n",
        "val_dir = \"/content/tree_dataset_split/val\"\n",
        "test_dir = \"/content/tree_dataset_split/test\"\n"
      ],
      "metadata": {
        "id": "Z6TnSl8gD3Fh"
      },
      "execution_count": 23,
      "outputs": []
    },
    {
      "cell_type": "code",
      "source": [
        "from tensorflow.keras.preprocessing.image import ImageDataGenerator\n",
        "\n",
        "IMG_SIZE = 150\n",
        "BATCH_SIZE = 32\n",
        "\n",
        "train_datagen = ImageDataGenerator(rescale=1./255)\n",
        "val_datagen = ImageDataGenerator(rescale=1./255)\n",
        "test_datagen = ImageDataGenerator(rescale=1./255)\n",
        "\n",
        "train_generator = train_datagen.flow_from_directory(\n",
        "    train_dir,\n",
        "    target_size=(IMG_SIZE, IMG_SIZE),\n",
        "    batch_size=BATCH_SIZE,\n",
        "    class_mode='categorical'\n",
        ")\n",
        "\n",
        "val_generator = val_datagen.flow_from_directory(\n",
        "    val_dir,\n",
        "    target_size=(IMG_SIZE, IMG_SIZE),\n",
        "    batch_size=BATCH_SIZE,\n",
        "    class_mode='categorical'\n",
        ")\n",
        "\n",
        "test_generator = test_datagen.flow_from_directory(\n",
        "    test_dir,\n",
        "    target_size=(IMG_SIZE, IMG_SIZE),\n",
        "    batch_size=BATCH_SIZE,\n",
        "    class_mode='categorical',\n",
        "    shuffle=False\n",
        ")\n"
      ],
      "metadata": {
        "colab": {
          "base_uri": "https://localhost:8080/"
        },
        "id": "rkgm9SAgD4n2",
        "outputId": "8ae98457-5128-4395-937c-c9e88d81b6d7"
      },
      "execution_count": 24,
      "outputs": [
        {
          "output_type": "stream",
          "name": "stdout",
          "text": [
            "Found 772 images belonging to 31 classes.\n",
            "Found 219 images belonging to 31 classes.\n",
            "Found 114 images belonging to 31 classes.\n"
          ]
        }
      ]
    },
    {
      "cell_type": "code",
      "source": [
        "from tensorflow.keras.models import Sequential\n",
        "from tensorflow.keras.layers import Conv2D, MaxPooling2D, Flatten, Dense, Dropout\n",
        "\n",
        "model = Sequential([\n",
        "    Conv2D(32, (3, 3), activation='relu', input_shape=(IMG_SIZE, IMG_SIZE, 3)),\n",
        "    MaxPooling2D(2, 2),\n",
        "    Conv2D(64, (3, 3), activation='relu'),\n",
        "    MaxPooling2D(2, 2),\n",
        "    Flatten(),\n",
        "    Dense(128, activation='relu'),\n",
        "    Dropout(0.5),\n",
        "    Dense(train_generator.num_classes, activation='softmax')\n",
        "])\n"
      ],
      "metadata": {
        "colab": {
          "base_uri": "https://localhost:8080/"
        },
        "id": "3y7Ix_8hD7Qr",
        "outputId": "0bfdf12b-2085-4e20-9bdc-1582fff98a2d"
      },
      "execution_count": 25,
      "outputs": [
        {
          "output_type": "stream",
          "name": "stderr",
          "text": [
            "/usr/local/lib/python3.11/dist-packages/keras/src/layers/convolutional/base_conv.py:107: UserWarning: Do not pass an `input_shape`/`input_dim` argument to a layer. When using Sequential models, prefer using an `Input(shape)` object as the first layer in the model instead.\n",
            "  super().__init__(activity_regularizer=activity_regularizer, **kwargs)\n"
          ]
        }
      ]
    },
    {
      "cell_type": "code",
      "source": [
        "model.compile(optimizer='adam',\n",
        "              loss='categorical_crossentropy',\n",
        "              metrics=['accuracy'])\n",
        "\n",
        "history = model.fit(\n",
        "    train_generator,\n",
        "    epochs=10,\n",
        "    validation_data=val_generator\n",
        ")\n"
      ],
      "metadata": {
        "colab": {
          "base_uri": "https://localhost:8080/"
        },
        "id": "PrI2thRdD_RE",
        "outputId": "4172573b-abd4-4236-99dc-2648782aaa5f"
      },
      "execution_count": 26,
      "outputs": [
        {
          "output_type": "stream",
          "name": "stderr",
          "text": [
            "/usr/local/lib/python3.11/dist-packages/keras/src/trainers/data_adapters/py_dataset_adapter.py:121: UserWarning: Your `PyDataset` class should call `super().__init__(**kwargs)` in its constructor. `**kwargs` can include `workers`, `use_multiprocessing`, `max_queue_size`. Do not pass these arguments to `fit()`, as they will be ignored.\n",
            "  self._warn_if_super_not_called()\n"
          ]
        },
        {
          "output_type": "stream",
          "name": "stdout",
          "text": [
            "Epoch 1/10\n",
            "\u001b[1m25/25\u001b[0m \u001b[32m━━━━━━━━━━━━━━━━━━━━\u001b[0m\u001b[37m\u001b[0m \u001b[1m34s\u001b[0m 1s/step - accuracy: 0.0579 - loss: 3.7280 - val_accuracy: 0.1735 - val_loss: 3.0895\n",
            "Epoch 2/10\n",
            "\u001b[1m25/25\u001b[0m \u001b[32m━━━━━━━━━━━━━━━━━━━━\u001b[0m\u001b[37m\u001b[0m \u001b[1m32s\u001b[0m 1s/step - accuracy: 0.1684 - loss: 3.0300 - val_accuracy: 0.2055 - val_loss: 2.7070\n",
            "Epoch 3/10\n",
            "\u001b[1m25/25\u001b[0m \u001b[32m━━━━━━━━━━━━━━━━━━━━\u001b[0m\u001b[37m\u001b[0m \u001b[1m31s\u001b[0m 1s/step - accuracy: 0.2192 - loss: 2.7146 - val_accuracy: 0.3242 - val_loss: 2.4529\n",
            "Epoch 4/10\n",
            "\u001b[1m25/25\u001b[0m \u001b[32m━━━━━━━━━━━━━━━━━━━━\u001b[0m\u001b[37m\u001b[0m \u001b[1m31s\u001b[0m 1s/step - accuracy: 0.2802 - loss: 2.4578 - val_accuracy: 0.3242 - val_loss: 2.2662\n",
            "Epoch 5/10\n",
            "\u001b[1m25/25\u001b[0m \u001b[32m━━━━━━━━━━━━━━━━━━━━\u001b[0m\u001b[37m\u001b[0m \u001b[1m30s\u001b[0m 1s/step - accuracy: 0.3717 - loss: 2.1612 - val_accuracy: 0.3790 - val_loss: 2.1971\n",
            "Epoch 6/10\n",
            "\u001b[1m25/25\u001b[0m \u001b[32m━━━━━━━━━━━━━━━━━━━━\u001b[0m\u001b[37m\u001b[0m \u001b[1m30s\u001b[0m 1s/step - accuracy: 0.4722 - loss: 1.7475 - val_accuracy: 0.4521 - val_loss: 1.9628\n",
            "Epoch 7/10\n",
            "\u001b[1m25/25\u001b[0m \u001b[32m━━━━━━━━━━━━━━━━━━━━\u001b[0m\u001b[37m\u001b[0m \u001b[1m30s\u001b[0m 1s/step - accuracy: 0.6164 - loss: 1.2724 - val_accuracy: 0.4110 - val_loss: 1.9450\n",
            "Epoch 8/10\n",
            "\u001b[1m25/25\u001b[0m \u001b[32m━━━━━━━━━━━━━━━━━━━━\u001b[0m\u001b[37m\u001b[0m \u001b[1m30s\u001b[0m 1s/step - accuracy: 0.7008 - loss: 0.9571 - val_accuracy: 0.4338 - val_loss: 2.0306\n",
            "Epoch 9/10\n",
            "\u001b[1m25/25\u001b[0m \u001b[32m━━━━━━━━━━━━━━━━━━━━\u001b[0m\u001b[37m\u001b[0m \u001b[1m31s\u001b[0m 1s/step - accuracy: 0.7306 - loss: 0.8499 - val_accuracy: 0.5068 - val_loss: 1.9326\n",
            "Epoch 10/10\n",
            "\u001b[1m25/25\u001b[0m \u001b[32m━━━━━━━━━━━━━━━━━━━━\u001b[0m\u001b[37m\u001b[0m \u001b[1m30s\u001b[0m 1s/step - accuracy: 0.8344 - loss: 0.5897 - val_accuracy: 0.5160 - val_loss: 1.8878\n"
          ]
        }
      ]
    },
    {
      "cell_type": "code",
      "source": [
        "loss, accuracy = model.evaluate(test_generator)\n",
        "print(f\"✅ Test Accuracy: {accuracy * 100:.2f}%\")\n"
      ],
      "metadata": {
        "colab": {
          "base_uri": "https://localhost:8080/"
        },
        "id": "fUuhH1qwEEBw",
        "outputId": "90aee3fd-fe28-427b-a47b-fd198dc019dc"
      },
      "execution_count": 27,
      "outputs": [
        {
          "output_type": "stream",
          "name": "stdout",
          "text": [
            "\u001b[1m4/4\u001b[0m \u001b[32m━━━━━━━━━━━━━━━━━━━━\u001b[0m\u001b[37m\u001b[0m \u001b[1m2s\u001b[0m 239ms/step - accuracy: 0.4244 - loss: 2.2151\n",
            "✅ Test Accuracy: 43.86%\n"
          ]
        }
      ]
    },
    {
      "cell_type": "code",
      "source": [
        "model.save(\"/content/tree_species_model.keras\")  # Recommended format\n"
      ],
      "metadata": {
        "id": "jmjNIvroEFPe"
      },
      "execution_count": 34,
      "outputs": []
    },
    {
      "cell_type": "code",
      "source": [
        "from google.colab import files\n",
        "files.download(\"/content/tree_species_model.keras\")\n"
      ],
      "metadata": {
        "colab": {
          "base_uri": "https://localhost:8080/",
          "height": 17
        },
        "id": "BVmt8y18GIKG",
        "outputId": "ba467894-c1c6-4aea-e801-3ad251530ae2"
      },
      "execution_count": 35,
      "outputs": [
        {
          "output_type": "display_data",
          "data": {
            "text/plain": [
              "<IPython.core.display.Javascript object>"
            ],
            "application/javascript": [
              "\n",
              "    async function download(id, filename, size) {\n",
              "      if (!google.colab.kernel.accessAllowed) {\n",
              "        return;\n",
              "      }\n",
              "      const div = document.createElement('div');\n",
              "      const label = document.createElement('label');\n",
              "      label.textContent = `Downloading \"${filename}\": `;\n",
              "      div.appendChild(label);\n",
              "      const progress = document.createElement('progress');\n",
              "      progress.max = size;\n",
              "      div.appendChild(progress);\n",
              "      document.body.appendChild(div);\n",
              "\n",
              "      const buffers = [];\n",
              "      let downloaded = 0;\n",
              "\n",
              "      const channel = await google.colab.kernel.comms.open(id);\n",
              "      // Send a message to notify the kernel that we're ready.\n",
              "      channel.send({})\n",
              "\n",
              "      for await (const message of channel.messages) {\n",
              "        // Send a message to notify the kernel that we're ready.\n",
              "        channel.send({})\n",
              "        if (message.buffers) {\n",
              "          for (const buffer of message.buffers) {\n",
              "            buffers.push(buffer);\n",
              "            downloaded += buffer.byteLength;\n",
              "            progress.value = downloaded;\n",
              "          }\n",
              "        }\n",
              "      }\n",
              "      const blob = new Blob(buffers, {type: 'application/binary'});\n",
              "      const a = document.createElement('a');\n",
              "      a.href = window.URL.createObjectURL(blob);\n",
              "      a.download = filename;\n",
              "      div.appendChild(a);\n",
              "      a.click();\n",
              "      div.remove();\n",
              "    }\n",
              "  "
            ]
          },
          "metadata": {}
        },
        {
          "output_type": "display_data",
          "data": {
            "text/plain": [
              "<IPython.core.display.Javascript object>"
            ],
            "application/javascript": [
              "download(\"download_1d17028c-2e47-40de-abc0-72d2709f6159\", \"tree_species_model.keras\", 127723295)"
            ]
          },
          "metadata": {}
        }
      ]
    },
    {
      "cell_type": "code",
      "source": [
        "!ls /content\n"
      ],
      "metadata": {
        "colab": {
          "base_uri": "https://localhost:8080/"
        },
        "id": "Ro-UwuEFGNeP",
        "outputId": "802011f3-f5b5-4959-b290-dec6d74a021d"
      },
      "execution_count": 33,
      "outputs": [
        {
          "output_type": "stream",
          "name": "stdout",
          "text": [
            "drive  sample_data  tree_dataset_split\n"
          ]
        }
      ]
    },
    {
      "cell_type": "code",
      "source": [
        "import matplotlib.pyplot as plt\n",
        "\n",
        "# Accuracy plot\n",
        "plt.plot(history.history['accuracy'], label='Train Accuracy')\n",
        "plt.plot(history.history['val_accuracy'], label='Validation Accuracy')\n",
        "plt.title('Model Accuracy')\n",
        "plt.xlabel('Epoch')\n",
        "plt.ylabel('Accuracy')\n",
        "plt.legend()\n",
        "plt.show()\n",
        "\n",
        "# Loss plot\n",
        "plt.plot(history.history['loss'], label='Train Loss')\n",
        "plt.plot(history.history['val_loss'], label='Validation Loss')\n",
        "plt.title('Model Loss')\n",
        "plt.xlabel('Epoch')\n",
        "plt.ylabel('Loss')\n",
        "plt.legend()\n",
        "plt.show()\n"
      ],
      "metadata": {
        "colab": {
          "base_uri": "https://localhost:8080/",
          "height": 927
        },
        "id": "iNoZci3AEO1X",
        "outputId": "e70db619-f73f-4585-9761-a23c2852897e"
      },
      "execution_count": 29,
      "outputs": [
        {
          "output_type": "display_data",
          "data": {
            "text/plain": [
              "<Figure size 640x480 with 1 Axes>"
            ],
            "image/png": "[encoded data removed]"
          },
          "metadata": {}
        },
        {
          "output_type": "display_data",
          "data": {
            "text/plain": [
              "<Figure size 640x480 with 1 Axes>"
            ],
            "image/png": "[encoded data removed]"
          },
          "metadata": {}
        }
      ]
    }
  ]
}